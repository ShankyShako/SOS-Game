{
 "cells": [
  {
   "cell_type": "code",
   "execution_count": 1,
   "id": "e8d4342f",
   "metadata": {},
   "outputs": [
    {
     "ename": "NameError",
     "evalue": "name 'GL' is not defined",
     "output_type": "error",
     "traceback": [
      "\u001b[1;31m---------------------------------------------------------------------------\u001b[0m",
      "\u001b[1;31mNameError\u001b[0m                                 Traceback (most recent call last)",
      "Cell \u001b[1;32mIn[1], line 11\u001b[0m\n\u001b[0;32m      8\u001b[0m board_int\u001b[38;5;241m.\u001b[39mset(\u001b[38;5;241m8\u001b[39m)\n\u001b[0;32m      9\u001b[0m GL \u001b[38;5;241m=\u001b[39m GameBoard(board_int\u001b[38;5;241m.\u001b[39mget())\n\u001b[1;32m---> 11\u001b[0m \u001b[43mCreateGame\u001b[49m\u001b[43m(\u001b[49m\u001b[43mGUI\u001b[49m\u001b[43m,\u001b[49m\u001b[43m \u001b[49m\u001b[43mboard_int\u001b[49m\u001b[43m)\u001b[49m\n\u001b[0;32m     12\u001b[0m GUI\u001b[38;5;241m.\u001b[39mmainloop()\n",
      "File \u001b[1;32m~\\SOS Game\\GUI.py:34\u001b[0m, in \u001b[0;36mCreateGame\u001b[1;34m(GUI, brd_int)\u001b[0m\n\u001b[0;32m     32\u001b[0m r\u001b[38;5;241m.\u001b[39mset(\u001b[38;5;124m\"\u001b[39m\u001b[38;5;124mS\u001b[39m\u001b[38;5;124m\"\u001b[39m)\n\u001b[0;32m     33\u001b[0m c_t\u001b[38;5;241m.\u001b[39mset(\u001b[38;5;124m\"\u001b[39m\u001b[38;5;124mBlue\u001b[39m\u001b[38;5;124m\"\u001b[39m)\n\u001b[1;32m---> 34\u001b[0m gmc \u001b[38;5;241m=\u001b[39m partial(\u001b[43mGL\u001b[49m\u001b[38;5;241m.\u001b[39mGameModeChange, v)\n\u001b[0;32m     36\u001b[0m menubar \u001b[38;5;241m=\u001b[39m Menu(GUI)\n\u001b[0;32m     37\u001b[0m game \u001b[38;5;241m=\u001b[39m Menu(menubar, tearoff \u001b[38;5;241m=\u001b[39m \u001b[38;5;241m0\u001b[39m) \n",
      "\u001b[1;31mNameError\u001b[0m: name 'GL' is not defined"
     ]
    }
   ],
   "source": [
    "from GUI import CreateGame\n",
    "import tkinter\n",
    "from tkinter import *\n",
    "from GameLogic import GameBoard\n",
    "\n",
    "GUI = Tk() \n",
    "board_int = IntVar()\n",
    "board_int.set(8)\n",
    "GL = GameBoard(board_int.get())\n",
    "\n",
    "CreateGame(GUI, board_int, GL)\n",
    "GUI.mainloop()"
   ]
  },
  {
   "cell_type": "code",
   "execution_count": 3,
   "id": "4b143dd2",
   "metadata": {},
   "outputs": [
    {
     "ename": "IndexError",
     "evalue": "list index out of range",
     "output_type": "error",
     "traceback": [
      "\u001b[1;31m---------------------------------------------------------------------------\u001b[0m",
      "\u001b[1;31mIndexError\u001b[0m                                Traceback (most recent call last)",
      "Cell \u001b[1;32mIn[3], line 1\u001b[0m\n\u001b[1;32m----> 1\u001b[0m boardsize \u001b[38;5;241m=\u001b[39m \u001b[43m[\u001b[49m\u001b[38;5;241;43m8\u001b[39;49m\u001b[43m]\u001b[49m\u001b[43m[\u001b[49m\u001b[38;5;241;43m8\u001b[39;49m\u001b[43m]\u001b[49m\n\u001b[0;32m      2\u001b[0m boardsize[\u001b[38;5;241m0\u001b[39m][\u001b[38;5;241m0\u001b[39m]\u001b[38;5;241m=\u001b[39m\u001b[38;5;241m1\u001b[39m\n\u001b[0;32m      4\u001b[0m \u001b[38;5;28mprint\u001b[39m(boardsize[\u001b[38;5;241m0\u001b[39m][\u001b[38;5;241m0\u001b[39m])\n",
      "\u001b[1;31mIndexError\u001b[0m: list index out of range"
     ]
    }
   ],
   "source": [
    "button = []\n",
    "for i in range(board_int.get()):\n",
    "    m = 3+i\n",
    "    button.append(i)\n",
    "    button[i] = []\n",
    "    for j in range(board_int.get()):\n",
    "        n = j\n",
    "        button[i].append(j)\n",
    "        get_t = partial(GetTurn, i, j, b, r, GUI, button, c_t, current_turn_text)\n",
    "        button[i][j] = Button(\n",
    "            GUI, bd = 2, height=1, width=2, command=get_t, relief=RAISED, bg=\"white\")\n",
    "        button[i][j].place(x = 200 + i * 24, y = 50 + j*26 , anchor=CENTER)"
   ]
  },
  {
   "cell_type": "code",
   "execution_count": null,
   "id": "a0f81a58",
   "metadata": {},
   "outputs": [],
   "source": []
  }
 ],
 "metadata": {
  "kernelspec": {
   "display_name": "Python 3 (ipykernel)",
   "language": "python",
   "name": "python3"
  },
  "language_info": {
   "codemirror_mode": {
    "name": "ipython",
    "version": 3
   },
   "file_extension": ".py",
   "mimetype": "text/x-python",
   "name": "python",
   "nbconvert_exporter": "python",
   "pygments_lexer": "ipython3",
   "version": "3.10.9"
  }
 },
 "nbformat": 4,
 "nbformat_minor": 5
}
